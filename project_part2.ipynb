{
 "cells": [
  {
   "cell_type": "markdown",
   "metadata": {},
   "source": [
    "# Project Part 2"
   ]
  },
  {
   "cell_type": "code",
   "execution_count": 3,
   "metadata": {},
   "outputs": [],
   "source": [
    "# imports \n",
    "from transformers import AutoTokenizer, AutoModelForCausalLM, pipeline"
   ]
  },
  {
   "cell_type": "code",
   "execution_count": 53,
   "metadata": {},
   "outputs": [],
   "source": [
    "# prompts that will be used to generate text\n",
    "prompts = [\n",
    "    \"In view of the fading animals\", \n",
    "    \"Shall I compare thee\",\n",
    "    \"Deep into that darkness\"\n",
    "]\n",
    "\n",
    "long_prompt = 'Deep into that darkness peering, Long I stood there, wondering, fearing, Doubting, dreaming dreams no mortals Ever dared to dream before; But the silence was unbroken, And the stillness gave no token, And the only word there spoken Was the whispered word, \"Lenore!\" This I'\n",
    "\n",
    "# lines from poems: \n",
    "# They are hostile nations by Margret Atwood\n",
    "# Sonnet 18 by William Shakespeare\n",
    "# The Raven by Edgar Allen poe"
   ]
  },
  {
   "cell_type": "code",
   "execution_count": 63,
   "metadata": {},
   "outputs": [],
   "source": [
    "# function for generating text \n",
    "\n",
    "def generate_from_model(prompt, max_length=30, temp=1.5, num_outputs=5):\n",
    "    \"\"\"\n",
    "    Tokenize the given prompt, must be one string, and generate output from the model.\n",
    "\n",
    "    Args:\n",
    "        prompt (str): The input string that is used to generate text\n",
    "        max_length (int): Max character length of the generated outputs\n",
    "        temp (int): Set the temperature for the outputs\n",
    "        num_outputs (int): number of different outputs to be created\n",
    "        \n",
    "    \"\"\"\n",
    "    print(\"Outputs for: \" + prompt)\n",
    "\n",
    "    inputs = tokenizer.encode(prompt, add_special_tokens=False, return_tensors=\"pt\")\n",
    "    \n",
    "    prompt_length = len(tokenizer.decode(inputs[0], skip_special_tokens=True, clean_up_tokenization_spaces=True))\n",
    "    outputs = model.generate(inputs, max_length=max_length, do_sample=True, top_p=0.95, top_k=50, temperature=temp, num_return_sequences=num_outputs)\n",
    "\n",
    "    for i in range(len(outputs)):\n",
    "        generated = tokenizer.decode(outputs[i])\n",
    "        print(generated)\n",
    "        \n",
    "    print('\\n \\n')"
   ]
  },
  {
   "cell_type": "markdown",
   "metadata": {},
   "source": [
    "## DistilGPT2 Model"
   ]
  },
  {
   "cell_type": "code",
   "execution_count": 60,
   "metadata": {},
   "outputs": [],
   "source": [
    "# load in tokenizer and model\n",
    "MODEL_NAME = \"distilgpt2\"\n",
    "\n",
    "tokenizer = AutoTokenizer.from_pretrained(MODEL_NAME)\n",
    "\n",
    "model = AutoModelForCausalLM.from_pretrained(MODEL_NAME)"
   ]
  },
  {
   "cell_type": "code",
   "execution_count": 66,
   "metadata": {},
   "outputs": [
    {
     "name": "stderr",
     "output_type": "stream",
     "text": [
      "The attention mask and the pad token id were not set. As a consequence, you may observe unexpected behavior. Please pass your input's `attention_mask` to obtain reliable results.\n",
      "Setting `pad_token_id` to `eos_token_id`:50256 for open-end generation.\n"
     ]
    },
    {
     "name": "stdout",
     "output_type": "stream",
     "text": [
      "Outputs for: In view of the fading animals\n"
     ]
    },
    {
     "name": "stderr",
     "output_type": "stream",
     "text": [
      "The attention mask and the pad token id were not set. As a consequence, you may observe unexpected behavior. Please pass your input's `attention_mask` to obtain reliable results.\n",
      "Setting `pad_token_id` to `eos_token_id`:50256 for open-end generation.\n"
     ]
    },
    {
     "name": "stdout",
     "output_type": "stream",
     "text": [
      "In view of the fading animals, the following features, if you could follow us in particular, are worth revisiting and possibly making sure they keep themselves\n",
      "In view of the fading animals in our field this study highlights a trend by showing that a major change in size over the lifetime should also appear to be\n",
      "In view of the fading animals of our own species, we must, with reasonable, regular awareness, refrain from assuming, for long, for good only\n",
      "In view of the fading animals in my field and the small animal community of my hometown of Lequeta in Texas, but who will look back upon\n",
      "In view of the fading animals the next round of the Puma, however large, in an all-in-one environment will appear. In turn\n",
      "\n",
      " \n",
      "\n",
      "Outputs for: Shall I compare thee\n"
     ]
    },
    {
     "name": "stderr",
     "output_type": "stream",
     "text": [
      "The attention mask and the pad token id were not set. As a consequence, you may observe unexpected behavior. Please pass your input's `attention_mask` to obtain reliable results.\n",
      "Setting `pad_token_id` to `eos_token_id`:50256 for open-end generation.\n"
     ]
    },
    {
     "name": "stdout",
     "output_type": "stream",
     "text": [
      "Shall I compare thee for them.\n",
      "I shall look out with eyes into your son (Carnet),\n",
      "And you will do likewise after\n",
      "Shall I compare thee from that of our mothers, who believe us more than your mothers; for your sisters and my daughters are men: for your\n",
      "Shall I compare thee a certain degree : A true good, very real, but false not that good, as it may be, has been made\n",
      "Shall I compare thee to all mankind; this God will find out that it is with man the God of their generation when he finds out what you\n",
      "Shall I compare thee for a new time, from the age of the beast. I call the Spirit of the Heavens, The Lord, and\n",
      "\n",
      " \n",
      "\n",
      "Outputs for: Deep into that darkness\n",
      "Deep into that darkness, in the middle of his mind where he could understand himself (this could come by now as we had only talked as late-\n",
      "Deep into that darkness, we begin a long, arduous journey... And there lies the way you walk. It's not at my disposal.... But\n",
      "Deep into that darkness of life and mortality; I have heard through my eyes the dead, and in what you saw there was this deep dark soul known\n",
      "Deep into that darkness and find in him… And so there you come.<|endoftext|><|endoftext|><|endoftext|><|endoftext|><|endoftext|><|endoftext|><|endoftext|><|endoftext|><|endoftext|><|endoftext|><|endoftext|><|endoftext|><|endoftext|><|endoftext|><|endoftext|>\n",
      "Deep into that darkness you see coming on each corner you can see one of the best monsters on earth and it comes alive quickly, and one of the\n",
      "\n",
      " \n",
      "\n"
     ]
    }
   ],
   "source": [
    "for i in range(len(prompts)):\n",
    "    generate_from_model(prompts[i])"
   ]
  },
  {
   "cell_type": "code",
   "execution_count": 67,
   "metadata": {},
   "outputs": [
    {
     "name": "stderr",
     "output_type": "stream",
     "text": [
      "The attention mask and the pad token id were not set. As a consequence, you may observe unexpected behavior. Please pass your input's `attention_mask` to obtain reliable results.\n",
      "Setting `pad_token_id` to `eos_token_id`:50256 for open-end generation.\n"
     ]
    },
    {
     "name": "stdout",
     "output_type": "stream",
     "text": [
      "Outputs for: Deep into that darkness peering, Long I stood there, wondering, fearing, Doubting, dreaming dreams no mortals Ever dared to dream before; But the silence was unbroken, And the stillness gave no token, And the only word there spoken Was the whispered word, \"Lenore!\" This I\n",
      "Deep into that darkness peering, Long I stood there, wondering, fearing, Doubting, dreaming dreams no mortals Ever dared to dream before; But the silence was unbroken, And the stillness gave no token, And the only word there spoken Was the whispered word, \"Lenore!\" This I heard and felt, felt. By the time my mind came back, I knew. The only answer I gave is a smile: A smile. No doubt if there's one, no one\n",
      "\n",
      " \n",
      "\n"
     ]
    }
   ],
   "source": [
    "generate_from_model(long_prompt, max_length=100, num_outputs=1)"
   ]
  },
  {
   "cell_type": "markdown",
   "metadata": {},
   "source": [
    "## GPT-Neo 1.3B "
   ]
  },
  {
   "cell_type": "code",
   "execution_count": null,
   "metadata": {},
   "outputs": [],
   "source": [
    "# load in tokenizer and model\n",
    "MODEL_NAME = \"EleutherAI/gpt-neo-1.3B\"\n",
    "\n",
    "tokenizer = AutoTokenizer.from_pretrained(MODEL_NAME)\n",
    "\n",
    "model = AutoModelForCausalLM.from_pretrained(MODEL_NAME)"
   ]
  },
  {
   "cell_type": "code",
   "execution_count": 69,
   "metadata": {},
   "outputs": [
    {
     "name": "stderr",
     "output_type": "stream",
     "text": [
      "The attention mask and the pad token id were not set. As a consequence, you may observe unexpected behavior. Please pass your input's `attention_mask` to obtain reliable results.\n",
      "Setting `pad_token_id` to `eos_token_id`:50256 for open-end generation.\n"
     ]
    },
    {
     "name": "stdout",
     "output_type": "stream",
     "text": [
      "Outputs for: In view of the fading animals\n"
     ]
    },
    {
     "name": "stderr",
     "output_type": "stream",
     "text": [
      "The attention mask and the pad token id were not set. As a consequence, you may observe unexpected behavior. Please pass your input's `attention_mask` to obtain reliable results.\n",
      "Setting `pad_token_id` to `eos_token_id`:50256 for open-end generation.\n"
     ]
    },
    {
     "name": "stdout",
     "output_type": "stream",
     "text": [
      "In view of the fading animals in most television viewing areas as well, any viewing from a particular location by means of cable, satellite or other such viewing\n",
      "In view of the fading animals and insects—at the heart of many wild and\n",
      "traditional animal, insect, and plant species—there appears to be\n",
      "In view of the fading animals and the difficulty obtaining the pure water at the place, the best solution is that the town, as usual, provides the\n",
      "In view of the fading animals, we may be in for several short days' rain and warmish nights. This would be in line for several weeks\n",
      "In view of the fading animals the boys decided the next thing to do was start with more of their own meat.”\n",
      "\n",
      "On her return\n",
      "\n",
      " \n",
      "\n",
      "Outputs for: Shall I compare thee\n"
     ]
    },
    {
     "name": "stderr",
     "output_type": "stream",
     "text": [
      "The attention mask and the pad token id were not set. As a consequence, you may observe unexpected behavior. Please pass your input's `attention_mask` to obtain reliable results.\n",
      "Setting `pad_token_id` to `eos_token_id`:50256 for open-end generation.\n"
     ]
    },
    {
     "name": "stdout",
     "output_type": "stream",
     "text": [
      "Shall I compare thee to a March hare\"? Or am \"marrein [marred]\" also a French equivalent of the English mare\n",
      "Shall I compare thee to a rented clod?\n",
      "Thou art all but a weed to me\n",
      "A little weed, dung heap!\n",
      "Shall I compare thee and tell me thou shalt go in the\n",
      "strength that nature lent thee, or wilt thou fall sick as the\n",
      "tree\n",
      "Shall I compare thee to white  \n",
      "That muddied her stream, or an emerald? [6]\n",
      "\n",
      "II [14\n",
      "Shall I compare thee to the other ships which have been at sea\" \"(THE MARCHING BEATEN DOWN)?\" \"THERE H\n",
      "\n",
      " \n",
      "\n",
      "Outputs for: Deep into that darkness\n",
      "Deep into that darkness of night as the men stood on the edge of their camp with one light, and looked out toward the vast forest; one spoke\n",
      "Deep into that darkness, the first words you saw:\n",
      "\n",
      "If the dead are in pain, we should remember that this is what you should feel\n",
      "Deep into that darkness the darkness I have seen for the past seven years, my heart broke wide open, allowing grief over everything but my family; grief\n",
      "Deep into that darkness I can’t help, but look into\n",
      "\n",
      "The way, so thick as that, I cannot hold out the way\n",
      "Deep into that darkness, she sensed a sudden stir of excitement about to begin a search for their first mate. One of the women was on the hunt\n",
      "\n",
      " \n",
      "\n"
     ]
    }
   ],
   "source": [
    "for i in range(len(prompts)):\n",
    "    generate_from_model(prompts[i])"
   ]
  },
  {
   "cell_type": "code",
   "execution_count": 70,
   "metadata": {},
   "outputs": [
    {
     "name": "stderr",
     "output_type": "stream",
     "text": [
      "The attention mask and the pad token id were not set. As a consequence, you may observe unexpected behavior. Please pass your input's `attention_mask` to obtain reliable results.\n",
      "Setting `pad_token_id` to `eos_token_id`:50256 for open-end generation.\n"
     ]
    },
    {
     "name": "stdout",
     "output_type": "stream",
     "text": [
      "Outputs for: Deep into that darkness peering, Long I stood there, wondering, fearing, Doubting, dreaming dreams no mortals Ever dared to dream before; But the silence was unbroken, And the stillness gave no token, And the only word there spoken Was the whispered word, \"Lenore!\" This I\n",
      "Deep into that darkness peering, Long I stood there, wondering, fearing, Doubting, dreaming dreams no mortals Ever dared to dream before; But the silence was unbroken, And the stillness gave no token, And the only word there spoken Was the whispered word, \"Lenore!\" This I did without fear, nor care; So on I go, along the high ways, to the gate.   \n",
      "---Titan, a dark-felled tree, Whose\n",
      "\n",
      " \n",
      "\n"
     ]
    }
   ],
   "source": [
    "generate_from_model(long_prompt, max_length=100, num_outputs=1)"
   ]
  },
  {
   "cell_type": "code",
   "execution_count": 72,
   "metadata": {},
   "outputs": [
    {
     "name": "stderr",
     "output_type": "stream",
     "text": [
      "The attention mask and the pad token id were not set. As a consequence, you may observe unexpected behavior. Please pass your input's `attention_mask` to obtain reliable results.\n",
      "Setting `pad_token_id` to `eos_token_id`:50256 for open-end generation.\n"
     ]
    },
    {
     "name": "stdout",
     "output_type": "stream",
     "text": [
      "Outputs for: In view of the fading animals\n"
     ]
    },
    {
     "name": "stderr",
     "output_type": "stream",
     "text": [
      "The attention mask and the pad token id were not set. As a consequence, you may observe unexpected behavior. Please pass your input's `attention_mask` to obtain reliable results.\n",
      "Setting `pad_token_id` to `eos_token_id`:50256 for open-end generation.\n"
     ]
    },
    {
     "name": "stdout",
     "output_type": "stream",
     "text": [
      "In view of the fading animals and the limited supply of blood, the most important task is to provide adequate replacement of the blood lost. The replacement of\n",
      "In view of the fading animals, the next step in the development of the project was to create a new species, which would be able to adapt to\n",
      "In view of the fading animals, the only way I can think of to get the most out of them is to keep them on a short leash and\n",
      "In view of the fading animals and the rapid change of the seasons, it is not surprising that the inhabitants of the world have been the victims of the\n",
      "In view of the fading animals and the increasing costs of energy, the world is experiencing a growing interest in renewable energy sources. Among the many renewable energy\n",
      "\n",
      " \n",
      "\n",
      "Outputs for: Shall I compare thee\n"
     ]
    },
    {
     "name": "stderr",
     "output_type": "stream",
     "text": [
      "The attention mask and the pad token id were not set. As a consequence, you may observe unexpected behavior. Please pass your input's `attention_mask` to obtain reliable results.\n",
      "Setting `pad_token_id` to `eos_token_id`:50256 for open-end generation.\n"
     ]
    },
    {
     "name": "stdout",
     "output_type": "stream",
     "text": [
      "Shall I compare thee to a summer's day?\n",
      "\n",
      "In the heat of summer\n",
      "\n",
      "And thou art like a summer's day.\n",
      "\n",
      "Shall I compare thee to a summer's day?\n",
      "\n",
      "The sun shines brightly, the birds are chirping,\n",
      "\n",
      "The dew\n",
      "Shall I compare thee to a summer's day?\n",
      "\n",
      "O, how beautiful is this day!\n",
      "\n",
      "It is called a summer's day\n",
      "Shall I compare thee to a summer's day?\n",
      "\n",
      "Thou art more beautiful than the summer's day.\n",
      "\n",
      "Thou art more\n",
      "Shall I compare thee to a summer’s day?\n",
      "\n",
      "Thou art more lovely and more temperate:\n",
      "Thy days are\n",
      "\n",
      " \n",
      "\n",
      "Outputs for: Deep into that darkness\n",
      "Deep into that darkness, there is a light.\n",
      "\n",
      "I have been in a lot of dark places in my life, and I am not the\n",
      "Deep into that darkness, there is a light.\n",
      "\n",
      "That light is the light of life.\n",
      "\n",
      "And it is the light of life that\n",
      "Deep into that darkness, I saw a light. I was in a large field of wheat, and there was a man kneeling in front of a fire\n",
      "Deep into that darkness, I found a door. A door that had been shut for centuries.\n",
      "\n",
      "I took a step forward.\n",
      "\n",
      "I\n",
      "Deep into that darkness, he thought, and the light of the world was about to shine.\n",
      "\n",
      "The sound of the helicopter's rotors grew\n",
      "\n",
      " \n",
      "\n"
     ]
    }
   ],
   "source": [
    "# generate outputs with lower temperature\n",
    "for i in range(len(prompts)):\n",
    "    generate_from_model(prompts[i], temp=0.6)"
   ]
  },
  {
   "cell_type": "markdown",
   "metadata": {},
   "source": [
    "Outputs for: Deep into that darkness (That didn't get displayed)  \n",
    "Deep into that darkness, there is a light.\n",
    "\n",
    "I have been in a lot of dark places in my life, and I am not the\n",
    "Deep into that darkness, there is a light.\n",
    "\n",
    "That light is the light of life.\n",
    "\n",
    "And it is the light of life that\n",
    "Deep into that darkness, I saw a light. I was in a large field of wheat, and there was a man kneeling in front of a fire  \n",
    "Deep into that darkness, I found a door. A door that had been shut for centuries.\n",
    "\n",
    "I took a step forward.\n",
    "\n",
    "I  \n",
    "Deep into that darkness, he thought, and the light of the world was about to shine.\n",
    "\n",
    "The sound of the helicopter's rotors grew\n"
   ]
  },
  {
   "cell_type": "code",
   "execution_count": 74,
   "metadata": {},
   "outputs": [
    {
     "name": "stderr",
     "output_type": "stream",
     "text": [
      "The attention mask and the pad token id were not set. As a consequence, you may observe unexpected behavior. Please pass your input's `attention_mask` to obtain reliable results.\n",
      "Setting `pad_token_id` to `eos_token_id`:50256 for open-end generation.\n"
     ]
    },
    {
     "name": "stdout",
     "output_type": "stream",
     "text": [
      "Outputs for: In view of the fading animals\n"
     ]
    },
    {
     "name": "stderr",
     "output_type": "stream",
     "text": [
      "The attention mask and the pad token id were not set. As a consequence, you may observe unexpected behavior. Please pass your input's `attention_mask` to obtain reliable results.\n",
      "Setting `pad_token_id` to `eos_token_id`:50256 for open-end generation.\n"
     ]
    },
    {
     "name": "stdout",
     "output_type": "stream",
     "text": [
      "In view of the fading animals\n",
      "of his young, now but yesterday,\n",
      "and the fading hearts and hopes of\n",
      "all of whom love was left\n",
      "In view of the fading animals it had seen during its life; but so, in so many\n",
      "places, is it with our eyes, of old\n",
      "In view of the fading animals at night, what should we try or believe in to prepare themselves at the approach of danger?'  If no animals exist\n",
      "In view of the fading animals from the other seasons' play in the field (which was often un-muddlement-able), let our young\n",
      "In view of the fading animals of which he wrote about here and all that we observe as it has not changed so little on its face and there does\n",
      "\n",
      " \n",
      "\n",
      "Outputs for: Shall I compare thee\n"
     ]
    },
    {
     "name": "stderr",
     "output_type": "stream",
     "text": [
      "The attention mask and the pad token id were not set. As a consequence, you may observe unexpected behavior. Please pass your input's `attention_mask` to obtain reliable results.\n",
      "Setting `pad_token_id` to `eos_token_id`:50256 for open-end generation.\n"
     ]
    },
    {
     "name": "stdout",
     "output_type": "stream",
     "text": [
      "Shall I compare thee to a\n",
      "rose? There was much prettier. (Cricket was playing\n",
      "flute music, on another occasion\n",
      "Shall I compare thee to a June field after rain.\n",
      "\n",
      "But, I say\n",
      "This year as you have grown so wise and strong.\n",
      "Shall I compare thee with the stars? Therein I say: Why not? Though the heavens be enmity with thee...I would that\n",
      "Shall I compare thee so fair\" \"To rue thy name\" \"{GARBLING}\" \"{GARBLINGS HAWSD\"}\n",
      "Shall I compare thee to a summer's cloud?\" \"Or shall I throw up my hands and compare thee to the summer heathen?\" \"For\n",
      "\n",
      " \n",
      "\n",
      "Outputs for: Deep into that darkness\n",
      "Deep into that darkness\n",
      "with those awful, woebegone children,\n",
      "was that old, blind giant, Jekka (1): he\n",
      "Deep into that darkness. No sight nor sound but those cold whispers. She could feel the earth swaying, the stones rolling and the stones beneath the\n",
      "Deep into that darkness, that night and those cold fingers pressing at either cheekbone, we knew there was so much worse here. We thought that we\n",
      "Deep into that darkness it had never been more impossible either. He still clung now firmly within the web and fought in grim battles back of those that\n",
      "Deep into that darkness where the stars lie still for a year. Isolated in our hearts. Only the thought that others could find love the same thing\n",
      "\n",
      " \n",
      "\n"
     ]
    }
   ],
   "source": [
    "# generate outputs with a higher temperature\n",
    "for i in range(len(prompts)):\n",
    "    generate_from_model(prompts[i], temp=2.0)"
   ]
  }
 ],
 "metadata": {
  "kernelspec": {
   "display_name": "Python 3.9.15 ('proenv')",
   "language": "python",
   "name": "python3"
  },
  "language_info": {
   "codemirror_mode": {
    "name": "ipython",
    "version": 3
   },
   "file_extension": ".py",
   "mimetype": "text/x-python",
   "name": "python",
   "nbconvert_exporter": "python",
   "pygments_lexer": "ipython3",
   "version": "3.9.15"
  },
  "orig_nbformat": 4,
  "vscode": {
   "interpreter": {
    "hash": "f9d1c7e630fdd03980df847aef2a95446cfda3da5074eddac844064b8ff5f9ff"
   }
  }
 },
 "nbformat": 4,
 "nbformat_minor": 2
}
